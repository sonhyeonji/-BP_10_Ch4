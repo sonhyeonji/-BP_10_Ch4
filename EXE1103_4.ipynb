{
  "nbformat": 4,
  "nbformat_minor": 0,
  "metadata": {
    "colab": {
      "provenance": [],
      "authorship_tag": "ABX9TyOgRgs5dQVtG6uk59koULmk",
      "include_colab_link": true
    },
    "kernelspec": {
      "name": "python3",
      "display_name": "Python 3"
    },
    "language_info": {
      "name": "python"
    }
  },
  "cells": [
    {
      "cell_type": "markdown",
      "metadata": {
        "id": "view-in-github",
        "colab_type": "text"
      },
      "source": [
        "<a href=\"https://colab.research.google.com/github/sonhyeonji/BP_10_Ch4/blob/main/EXE1103_4.ipynb\" target=\"_parent\"><img src=\"https://colab.research.google.com/assets/colab-badge.svg\" alt=\"Open In Colab\"/></a>"
      ]
    },
    {
      "cell_type": "code",
      "execution_count": 4,
      "metadata": {
        "colab": {
          "base_uri": "https://localhost:8080/"
        },
        "id": "Knii4awgNpGE",
        "outputId": "412d914b-b225-4df5-f127-17a64615d3de"
      },
      "outputs": [
        {
          "output_type": "stream",
          "name": "stdout",
          "text": [
            "나는12개의 사과를 먹었다.\n"
          ]
        }
      ],
      "source": [
        "print(\"나는\"+str(12)+\"개의 사과를 먹었다.\")"
      ]
    },
    {
      "cell_type": "code",
      "source": [
        "print('apple'+'apple')\n",
        "print('apple'*3)"
      ],
      "metadata": {
        "colab": {
          "base_uri": "https://localhost:8080/"
        },
        "id": "NFqRqGOgPIk0",
        "outputId": "90e48065-7599-4718-cabb-1cd3f91631ba"
      },
      "execution_count": 8,
      "outputs": [
        {
          "output_type": "stream",
          "name": "stdout",
          "text": [
            "appleapple\n",
            "appleappleapple\n"
          ]
        }
      ]
    },
    {
      "cell_type": "code",
      "source": [
        "s=input(\"문자열을 입력하시오.:\")\n",
        "print(s[0:2]+s[-2:])"
      ],
      "metadata": {
        "colab": {
          "base_uri": "https://localhost:8080/"
        },
        "id": "HYevsmfYP8gl",
        "outputId": "82643e06-d1db-48c9-9cdd-db53dcd4837a"
      },
      "execution_count": 14,
      "outputs": [
        {
          "output_type": "stream",
          "name": "stdout",
          "text": [
            "문자열을 입력하시오.:python\n",
            "pyon\n"
          ]
        }
      ]
    },
    {
      "cell_type": "code",
      "source": [
        "s=input(\"문자열을 입력하시오.:\")\n",
        "print(s+\"하는중\")"
      ],
      "metadata": {
        "colab": {
          "base_uri": "https://localhost:8080/"
        },
        "id": "to-rxR0xQt4V",
        "outputId": "bfac668a-4c49-4d16-8ed0-66521442e92a"
      },
      "execution_count": 15,
      "outputs": [
        {
          "output_type": "stream",
          "name": "stdout",
          "text": [
            "문자열을 입력하시오.:청소\n",
            "청소하는중\n"
          ]
        }
      ]
    },
    {
      "cell_type": "code",
      "source": [
        "a=input(\"기호를 입력하시오.:\")\n",
        "b=input(\"중간에 삽입할 문자열을 입력하시오.:\")\n",
        "print(a[0]+b+a[1])"
      ],
      "metadata": {
        "colab": {
          "base_uri": "https://localhost:8080/"
        },
        "id": "PNC8es0Vhexp",
        "outputId": "bfbadbbd-f9ac-49a2-9347-5e59c199bebf"
      },
      "execution_count": 19,
      "outputs": [
        {
          "output_type": "stream",
          "name": "stdout",
          "text": [
            "기호를 입력하시오.:[]\n",
            "중간에 삽입할 문자열을 입력하시오.:python\n",
            "[python]\n"
          ]
        }
      ]
    },
    {
      "cell_type": "code",
      "source": [
        "a=[1,2,3,4]\n",
        "print(\"리스트=\",a)\n",
        "print(\"리스트 숫자들의 합=\", a[0]+a[1]+a[2]+a[3])"
      ],
      "metadata": {
        "colab": {
          "base_uri": "https://localhost:8080/"
        },
        "id": "TG_N73PFms__",
        "outputId": "c4fa3b4d-c70c-4959-b50d-eb40b6784185"
      },
      "execution_count": 20,
      "outputs": [
        {
          "output_type": "stream",
          "name": "stdout",
          "text": [
            "리스트= [1, 2, 3, 4]\n",
            "리스트 숫자들의 합= 10\n"
          ]
        }
      ]
    }
  ]
}